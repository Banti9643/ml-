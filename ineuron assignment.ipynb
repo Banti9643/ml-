{
 "cells": [
  {
   "cell_type": "code",
   "execution_count": 1,
   "id": "bce61e52",
   "metadata": {},
   "outputs": [
    {
     "name": "stdout",
     "output_type": "stream",
     "text": [
      "enter 1st number7\n",
      "enter 2nd number8\n"
     ]
    },
    {
     "data": {
      "text/plain": [
       "15"
      ]
     },
     "execution_count": 1,
     "metadata": {},
     "output_type": "execute_result"
    }
   ],
   "source": [
    "'''wap to accept two numbers from user and display their sum'''\n",
    "a = int(input('enter 1st number'))\n",
    "b = int(input('enter 2nd number'))\n",
    "a+b\n"
   ]
  },
  {
   "cell_type": "code",
   "execution_count": 3,
   "id": "8494ba88",
   "metadata": {},
   "outputs": [
    {
     "name": "stdout",
     "output_type": "stream",
     "text": [
      "enter your roll number: 8\n",
      "enter your grade: A\n",
      "enter your percentage:94\n",
      "8 A 94\n"
     ]
    }
   ],
   "source": [
    "'''wap to accept roll number ,grade and percentage as input from user and display it back'''\n",
    "roll_no =int(input('enter your roll number: '))\n",
    "grade = input('enter your grade: ')\n",
    "percent = int(input('enter your percentage:'))\n",
    "print(roll_no, grade, percent)\n",
    "\n"
   ]
  },
  {
   "cell_type": "code",
   "execution_count": 12,
   "id": "a9a764ed",
   "metadata": {},
   "outputs": [
    {
     "name": "stdout",
     "output_type": "stream",
     "text": [
      "enter your name: Ram\n",
      "enter your age: 29\n",
      "Ram  ,Age : 29\n"
     ]
    }
   ],
   "source": [
    "'''wap to ask the users to enter his name and age ,print out a message,displaying the users name along with age'''\n",
    "name = input('enter your name: ')\n",
    "age = int(input('enter your age: '))\n",
    "print(name, ' ,' 'Age'' :',age)\n"
   ]
  },
  {
   "cell_type": "code",
   "execution_count": 59,
   "id": "7cfcbd57",
   "metadata": {},
   "outputs": [
    {
     "name": "stdout",
     "output_type": "stream",
     "text": [
      "enter first value: 7\n",
      "enetr second value: 9\n",
      "16\n"
     ]
    }
   ],
   "source": [
    "'''wap that asks the user to input 2 integers and adds them .accept both the numbers in a single line only '''\n",
    "a= int(input('enter first value: '))\n",
    "b = int(input('enetr second value: '))            \n",
    "print(a+b)\n",
    "\n"
   ]
  },
  {
   "cell_type": "code",
   "execution_count": null,
   "id": "7faeb207",
   "metadata": {},
   "outputs": [],
   "source": []
  },
  {
   "cell_type": "code",
   "execution_count": 1,
   "id": "b5dc61d6",
   "metadata": {},
   "outputs": [
    {
     "name": "stdout",
     "output_type": "stream",
     "text": [
      "enter your full name: birla singh\n"
     ]
    },
    {
     "data": {
      "text/plain": [
       "['h', 'g', 'n', 'i', 's', ' ', 'a', 'l', 'r', 'i', 'b']"
      ]
     },
     "execution_count": 1,
     "metadata": {},
     "output_type": "execute_result"
    }
   ],
   "source": [
    "'''wap which accept the user's first name and last and print them in a reverse order with the space'''\n",
    "f = input('enter your full name: ')\n",
    "l1 = []\n",
    "for i in range(len(f)-1,-1,-1):\n",
    "    l1.append(f[i])\n",
    "l1   \n",
    "\n",
    "    \n",
    "    "
   ]
  },
  {
   "cell_type": "code",
   "execution_count": 5,
   "id": "1e6ac370",
   "metadata": {},
   "outputs": [
    {
     "name": "stdout",
     "output_type": "stream",
     "text": [
      "odd\n"
     ]
    }
   ],
   "source": [
    "'''wap to accept an integer from user and check whether it is odd or even'''\n",
    "print('odd')"
   ]
  },
  {
   "cell_type": "code",
   "execution_count": 3,
   "id": "f0dd25b1",
   "metadata": {},
   "outputs": [
    {
     "name": "stdout",
     "output_type": "stream",
     "text": [
      "enter number8\n",
      "even\n"
     ]
    }
   ],
   "source": [
    "g = int(input('enter number'))\n",
    "if g%2 == 0:\n",
    "    print('even')\n",
    "else:\n",
    "    ('odd')"
   ]
  },
  {
   "cell_type": "code",
   "execution_count": 72,
   "id": "5e8f776f",
   "metadata": {},
   "outputs": [
    {
     "name": "stdout",
     "output_type": "stream",
     "text": [
      "enter alphabet: h\n",
      "small\n"
     ]
    }
   ],
   "source": [
    "'''wap to accept the character from thr user and check wheter it is capital letter or small letter assume user will give \n",
    "input alphabet'''\n",
    "l = input('enter alphabet: ')\n",
    "if l == l.upper():\n",
    "    print('capital')\n",
    "else:\n",
    "    print('small')"
   ]
  },
  {
   "cell_type": "code",
   "execution_count": 16,
   "id": "13240096",
   "metadata": {},
   "outputs": [
    {
     "name": "stdout",
     "output_type": "stream",
     "text": [
      "enter alphabet:y\n",
      "small\n",
      "enter number: 8\n",
      "it is integer\n"
     ]
    }
   ],
   "source": [
    "'''wap to accept a character from the user and check whether it is capital letter or small or int or special character'''\n",
    "l = input('enter alphabet:')\n",
    "if l == l.upper():\n",
    "    print('capital')\n",
    "else:\n",
    "    print('small')\n",
    "k = int(input('enter number: '))\n",
    "if k % 1 == 0:\n",
    "    print('it is integer')\n",
    "else:\n",
    "    print('special')\n",
    "    "
   ]
  },
  {
   "cell_type": "code",
   "execution_count": 18,
   "id": "0970c588",
   "metadata": {},
   "outputs": [
    {
     "name": "stdout",
     "output_type": "stream",
     "text": [
      "enter 1st number: 8\n",
      "enter2nd number: 9\n",
      "enter 3rd number:10\n",
      "n3 is largest\n"
     ]
    }
   ],
   "source": [
    "'''wap to accept three integers from the user without using any logical operator find which one is largest'''\n",
    "n1 = int(input('enter 1st number: '))\n",
    "n2 = int(input('enter2nd number: '))\n",
    "n3 = int(input('enter 3rd number:'))\n",
    "if n1>n2:\n",
    "    if n1>n3:\n",
    "        print('n1 is largest')\n",
    "if n2> n1:\n",
    "    if n2>n3:\n",
    "        print('n2 is largest')\n",
    "if n3>n1:\n",
    "    if n3>n2:\n",
    "        print('n3 is largest')"
   ]
  },
  {
   "cell_type": "code",
   "execution_count": 22,
   "id": "220c7639",
   "metadata": {},
   "outputs": [
    {
     "name": "stdout",
     "output_type": "stream",
     "text": [
      "enter year2012\n",
      "leap year\n"
     ]
    }
   ],
   "source": [
    "'''wap to accept a year from user and check whether it is a leap year or not  '''\n",
    "y = int(input('enter year'))\n",
    "if y % 400 == 0 or y % 100 != 0 and y % 4 == 0:\n",
    "    print('leap year')\n",
    "else:\n",
    "    print('not a leap year')"
   ]
  },
  {
   "cell_type": "code",
   "execution_count": 29,
   "id": "a07882d6",
   "metadata": {},
   "outputs": [
    {
     "name": "stdout",
     "output_type": "stream",
     "text": [
      "enter word: crona\n",
      "c\n",
      "r\n",
      "n\n"
     ]
    }
   ],
   "source": [
    "'''wap to accept a string from user and display it vertically but dont display vowel'''\n",
    "d = input('enter word: ')\n",
    "v = 'AaEeIiOoUu'\n",
    "for i in d:\n",
    "    if i not in v:\n",
    "        print(i)"
   ]
  },
  {
   "cell_type": "code",
   "execution_count": 31,
   "id": "dd9629b0",
   "metadata": {},
   "outputs": [
    {
     "name": "stdout",
     "output_type": "stream",
     "text": [
      "enter number: 9\n",
      "10\n"
     ]
    }
   ],
   "source": [
    "'''wap to accept an integer from user and display the sum of all the numbers from 1 to that number '''\n",
    "s = int(input('enter number: '))\n",
    "print(s+1)"
   ]
  },
  {
   "cell_type": "code",
   "execution_count": 71,
   "id": "5e786d48",
   "metadata": {},
   "outputs": [
    {
     "name": "stdout",
     "output_type": "stream",
     "text": [
      "* \r\n",
      "* * \r\n",
      "* * * \r\n",
      "* * * * \r\n",
      "* * * * * \r\n",
      "* * * * * * \r\n",
      "* * * * * * * \r\n",
      "* * * * * * * * \r\n"
     ]
    }
   ],
   "source": [
    "'''wap to print pattern triangle'''\n",
    "for i in range(8):\n",
    "    for j in range(0,i+1):\n",
    "        print('*', end = ' ')\n",
    "    print('\\r')"
   ]
  },
  {
   "cell_type": "code",
   "execution_count": null,
   "id": "26e2199a",
   "metadata": {},
   "outputs": [],
   "source": []
  },
  {
   "cell_type": "code",
   "execution_count": null,
   "id": "eb104825",
   "metadata": {},
   "outputs": [],
   "source": []
  }
 ],
 "metadata": {
  "kernelspec": {
   "display_name": "Python 3 (ipykernel)",
   "language": "python",
   "name": "python3"
  },
  "language_info": {
   "codemirror_mode": {
    "name": "ipython",
    "version": 3
   },
   "file_extension": ".py",
   "mimetype": "text/x-python",
   "name": "python",
   "nbconvert_exporter": "python",
   "pygments_lexer": "ipython3",
   "version": "3.9.13"
  }
 },
 "nbformat": 4,
 "nbformat_minor": 5
}
