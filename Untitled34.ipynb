{
 "cells": [
  {
   "cell_type": "code",
   "execution_count": 1,
   "id": "f24388c7",
   "metadata": {},
   "outputs": [
    {
     "name": "stdout",
     "output_type": "stream",
     "text": [
      "['mahesh', 'ali', 'jacob']\n"
     ]
    }
   ],
   "source": [
    "'''q1. 1 you are working in a bank and you have been given two list of the employees who worked in \n",
    "2021 employees name is list 1 are Ramesh,Suresg,Mahesh,Ali,Jacob,and Saritha.please write a \n",
    "programme which helps to identify people who are common in both lists.please do not use any in built function\n",
    "'''\n",
    "l1 = ['mahesh','suresh','ramesh','ali','jacob','saritha']\n",
    "l2 = ['ali','mukesh','mahesh','jacob','sai','sarita']\n",
    "l3 = []\n",
    "for i in l1:\n",
    "    if i in l2:\n",
    "        l3.append(i)\n",
    "print(l3) \n"
   ]
  },
  {
   "cell_type": "code",
   "execution_count": null,
   "id": "8a5a1245",
   "metadata": {},
   "outputs": [],
   "source": [
    "'''q2.while entering data someone entered a few names as common string \"RameshSureshMohit\"\n",
    "please write a programme which separates all the names and convert them into a list.once converted\n",
    "in a list.please write a programme which adds their age'''\n",
    "\n",
    "n = 'ramesh suresh mohit'\n",
    "n.split()\n",
    "s = {'ramesh':25 ,'suresh':22 ,'mohit':26}\n"
   ]
  },
  {
   "cell_type": "code",
   "execution_count": null,
   "id": "4067e63f",
   "metadata": {},
   "outputs": [],
   "source": []
  },
  {
   "cell_type": "code",
   "execution_count": null,
   "id": "8e6eaff8",
   "metadata": {},
   "outputs": [],
   "source": []
  },
  {
   "cell_type": "code",
   "execution_count": 8,
   "id": "fe823f04",
   "metadata": {},
   "outputs": [],
   "source": [
    "'''q3.A few student from university have taken three exams\n",
    "Name = Sam,Jacy,Tom,Steve\n",
    "Python = 25,26,29,28\n",
    "statistics = 23,21,19,25\n",
    "SQL = 29,27,28,25\n",
    "write a programme which calculates mean values of all three tests and print the highest mean value\n",
    ".Addition and other functions are allowed.please also report who scored the highest mark in python\n",
    "using programming constructs'''\n",
    "\n",
    "import numpy as np\n",
    "python = 25,26,29,28\n",
    "py = np.average(python)\n",
    "stats = 23,21,19,25\n",
    "st = np.average(stats)\n",
    "sql = 29,27,28,25\n",
    "sq = np.average(sql)\n"
   ]
  },
  {
   "cell_type": "code",
   "execution_count": 10,
   "id": "8ba7a547",
   "metadata": {},
   "outputs": [
    {
     "data": {
      "text/plain": [
       "27.0"
      ]
     },
     "execution_count": 10,
     "metadata": {},
     "output_type": "execute_result"
    }
   ],
   "source": [
    "py"
   ]
  },
  {
   "cell_type": "code",
   "execution_count": 12,
   "id": "5753b655",
   "metadata": {},
   "outputs": [
    {
     "data": {
      "text/plain": [
       "22.0"
      ]
     },
     "execution_count": 12,
     "metadata": {},
     "output_type": "execute_result"
    }
   ],
   "source": [
    "st"
   ]
  },
  {
   "cell_type": "code",
   "execution_count": 13,
   "id": "6c47a745",
   "metadata": {},
   "outputs": [
    {
     "data": {
      "text/plain": [
       "27.25"
      ]
     },
     "execution_count": 13,
     "metadata": {},
     "output_type": "execute_result"
    }
   ],
   "source": [
    "sq"
   ]
  },
  {
   "cell_type": "code",
   "execution_count": 14,
   "id": "b6e278b4",
   "metadata": {},
   "outputs": [
    {
     "data": {
      "text/plain": [
       "27.25"
      ]
     },
     "execution_count": 14,
     "metadata": {},
     "output_type": "execute_result"
    }
   ],
   "source": [
    "a = 27.0,22.0,27.25\n",
    "max(a)"
   ]
  },
  {
   "cell_type": "code",
   "execution_count": 15,
   "id": "67cd52f2",
   "metadata": {},
   "outputs": [
    {
     "data": {
      "text/plain": [
       "76.25"
      ]
     },
     "execution_count": 15,
     "metadata": {},
     "output_type": "execute_result"
    }
   ],
   "source": [
    "sum(a)"
   ]
  },
  {
   "cell_type": "code",
   "execution_count": 20,
   "id": "2f5fd9a4",
   "metadata": {},
   "outputs": [
    {
     "data": {
      "text/plain": [
       "29"
      ]
     },
     "execution_count": 20,
     "metadata": {},
     "output_type": "execute_result"
    }
   ],
   "source": [
    "  max(python)\n"
   ]
  },
  {
   "cell_type": "code",
   "execution_count": 25,
   "id": "4e48eb42",
   "metadata": {},
   "outputs": [],
   "source": [
    "sam,jacy,tom,steve =25,26,29,28  "
   ]
  },
  {
   "cell_type": "code",
   "execution_count": 23,
   "id": "1096df89",
   "metadata": {},
   "outputs": [
    {
     "data": {
      "text/plain": [
       "29"
      ]
     },
     "execution_count": 23,
     "metadata": {},
     "output_type": "execute_result"
    }
   ],
   "source": [
    "tom"
   ]
  },
  {
   "cell_type": "code",
   "execution_count": 27,
   "id": "fa3cb128",
   "metadata": {},
   "outputs": [],
   "source": [
    "'''q4.you are working in a mdicine store.a patient came to your medical store and asked to buy\n",
    "2 strips of paracetamol,3 strips of azithromycin and 5 strips of vitamin c.one strip of paracetamol\n",
    "costs Rs 35,one strip of azithromycin costs Rs.49 and one strip of vitamin c costs Rs.33.patient \n",
    "gave you Rs 2000 .please tell is total cost of each medicine ,total costs of all medicineand how \n",
    "much money you refunded to the patient?'''\n",
    "para=  2*35\n",
    "azith= 3*49\n",
    "vita = 5*33\n",
    "total=para+azith+vita\n",
    "left_amount = 2000-total"
   ]
  },
  {
   "cell_type": "code",
   "execution_count": 29,
   "id": "d8bdf4fd",
   "metadata": {},
   "outputs": [
    {
     "data": {
      "text/plain": [
       "1618"
      ]
     },
     "execution_count": 29,
     "metadata": {},
     "output_type": "execute_result"
    }
   ],
   "source": [
    "para\n",
    "azith\n",
    "vita\n",
    "total\n",
    "left_amount"
   ]
  },
  {
   "cell_type": "code",
   "execution_count": 30,
   "id": "6832ee84",
   "metadata": {},
   "outputs": [
    {
     "data": {
      "text/plain": [
       "70"
      ]
     },
     "execution_count": 30,
     "metadata": {},
     "output_type": "execute_result"
    }
   ],
   "source": [
    "para\n"
   ]
  },
  {
   "cell_type": "code",
   "execution_count": 31,
   "id": "2a06503a",
   "metadata": {},
   "outputs": [
    {
     "data": {
      "text/plain": [
       "147"
      ]
     },
     "execution_count": 31,
     "metadata": {},
     "output_type": "execute_result"
    }
   ],
   "source": [
    "azith"
   ]
  },
  {
   "cell_type": "code",
   "execution_count": 32,
   "id": "a3419c28",
   "metadata": {},
   "outputs": [
    {
     "data": {
      "text/plain": [
       "165"
      ]
     },
     "execution_count": 32,
     "metadata": {},
     "output_type": "execute_result"
    }
   ],
   "source": [
    "vita"
   ]
  },
  {
   "cell_type": "code",
   "execution_count": 33,
   "id": "bdff5557",
   "metadata": {},
   "outputs": [
    {
     "data": {
      "text/plain": [
       "382"
      ]
     },
     "execution_count": 33,
     "metadata": {},
     "output_type": "execute_result"
    }
   ],
   "source": [
    "total"
   ]
  },
  {
   "cell_type": "code",
   "execution_count": 34,
   "id": "012e8de1",
   "metadata": {},
   "outputs": [
    {
     "name": "stdout",
     "output_type": "stream",
     "text": [
      "enter your sentence: i am going\n",
      "['i', 'a', 'o', 'i'] 4 vowels\n"
     ]
    }
   ],
   "source": [
    "'''Q5.Accept a sentence as ainput and find the number of vowels in it.Assume that sentence has no\n",
    "punctuation marks.for example: i am learning python contain 6 vowels this function should be applicable\n",
    "for all other different sentences'''\n",
    "\n",
    "s = input('enter your sentence: ')\n",
    "v = 'AaeEIiOoUu'\n",
    "l5 = []\n",
    "for i in s:\n",
    "    if i in v:\n",
    "        l5.append(i)\n",
    "        len(l5)\n",
    "        \n",
    "print(l5,len(l5) ,'vowels')"
   ]
  },
  {
   "cell_type": "code",
   "execution_count": 35,
   "id": "34c01a3e",
   "metadata": {},
   "outputs": [
    {
     "name": "stdout",
     "output_type": "stream",
     "text": [
      "enter your age12\n",
      "return after 6 years\n"
     ]
    }
   ],
   "source": [
    "'''Q6.you have been appointed by election commision to create website.your first task is to work\n",
    "on a programme which tells candidates if they are eligible for voting or not if they are eligible\n",
    "your output should be congrats you are eligible otherwise it should tell that you have to return\n",
    "after x number of years .Eligibility criteria for voting is 18 years''' \n",
    "\n",
    "age = int(input('enter your age'))\n",
    "if age >= 18:\n",
    "    print('congrats,you are eligible for voting')\n",
    "if age < 18:\n",
    "    c = 18\n",
    "    ret = c-age\n",
    "    print('return after',   ret ,'years' )\n",
    "    "
   ]
  },
  {
   "cell_type": "code",
   "execution_count": null,
   "id": "fcd3734d",
   "metadata": {},
   "outputs": [],
   "source": []
  },
  {
   "cell_type": "code",
   "execution_count": null,
   "id": "6a3e5fa9",
   "metadata": {},
   "outputs": [],
   "source": []
  }
 ],
 "metadata": {
  "kernelspec": {
   "display_name": "Python 3 (ipykernel)",
   "language": "python",
   "name": "python3"
  },
  "language_info": {
   "codemirror_mode": {
    "name": "ipython",
    "version": 3
   },
   "file_extension": ".py",
   "mimetype": "text/x-python",
   "name": "python",
   "nbconvert_exporter": "python",
   "pygments_lexer": "ipython3",
   "version": "3.9.13"
  }
 },
 "nbformat": 4,
 "nbformat_minor": 5
}
